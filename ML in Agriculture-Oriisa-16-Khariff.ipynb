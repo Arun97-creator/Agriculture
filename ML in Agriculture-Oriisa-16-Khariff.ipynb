{
 "cells": [
  {
   "cell_type": "code",
   "execution_count": 1,
   "metadata": {},
   "outputs": [],
   "source": [
    "import numpy as np\n",
    "import matplotlib.pyplot as plt\n",
    "import pandas as pd"
   ]
  },
  {
   "cell_type": "code",
   "execution_count": 26,
   "metadata": {},
   "outputs": [
    {
     "data": {
      "text/html": [
       "<div>\n",
       "<style scoped>\n",
       "    .dataframe tbody tr th:only-of-type {\n",
       "        vertical-align: middle;\n",
       "    }\n",
       "\n",
       "    .dataframe tbody tr th {\n",
       "        vertical-align: top;\n",
       "    }\n",
       "\n",
       "    .dataframe thead th {\n",
       "        text-align: right;\n",
       "    }\n",
       "</style>\n",
       "<table border=\"1\" class=\"dataframe\">\n",
       "  <thead>\n",
       "    <tr style=\"text-align: right;\">\n",
       "      <th></th>\n",
       "      <th>JUN-rainfall-pg21</th>\n",
       "      <th>JUL</th>\n",
       "      <th>AUG</th>\n",
       "      <th>SEP</th>\n",
       "      <th>OCT</th>\n",
       "      <th>NETAREASOWN-pg44</th>\n",
       "      <th>TotalCropped_area_pg30</th>\n",
       "      <th>HYV-pg45</th>\n",
       "      <th>HecterConsumptionpg46</th>\n",
       "      <th>Kharif-under-irrigation-51</th>\n",
       "      <th>Seed -Distribution-54</th>\n",
       "      <th>Amount-in-crores-pg58</th>\n",
       "      <th>TOTAL-pg60-jalanidhi</th>\n",
       "      <th>Total-khariff-79</th>\n",
       "    </tr>\n",
       "    <tr>\n",
       "      <th>DISTRICT</th>\n",
       "      <th></th>\n",
       "      <th></th>\n",
       "      <th></th>\n",
       "      <th></th>\n",
       "      <th></th>\n",
       "      <th></th>\n",
       "      <th></th>\n",
       "      <th></th>\n",
       "      <th></th>\n",
       "      <th></th>\n",
       "      <th></th>\n",
       "      <th></th>\n",
       "      <th></th>\n",
       "      <th></th>\n",
       "    </tr>\n",
       "  </thead>\n",
       "  <tbody>\n",
       "    <tr>\n",
       "      <th>ANGUL</th>\n",
       "      <td>126.6</td>\n",
       "      <td>267.2</td>\n",
       "      <td>389.9</td>\n",
       "      <td>143.2</td>\n",
       "      <td>98.3</td>\n",
       "      <td>192</td>\n",
       "      <td>184.88</td>\n",
       "      <td>78.36</td>\n",
       "      <td>30.28</td>\n",
       "      <td>50.62</td>\n",
       "      <td>7962.90</td>\n",
       "      <td>197.24</td>\n",
       "      <td>615</td>\n",
       "      <td>463.92</td>\n",
       "    </tr>\n",
       "    <tr>\n",
       "      <th>BALASORE</th>\n",
       "      <td>165.1</td>\n",
       "      <td>303.5</td>\n",
       "      <td>335.0</td>\n",
       "      <td>308.0</td>\n",
       "      <td>153.1</td>\n",
       "      <td>198</td>\n",
       "      <td>197.48</td>\n",
       "      <td>213.15</td>\n",
       "      <td>108.78</td>\n",
       "      <td>99.48</td>\n",
       "      <td>13482.20</td>\n",
       "      <td>393.00</td>\n",
       "      <td>770</td>\n",
       "      <td>1554.11</td>\n",
       "    </tr>\n",
       "    <tr>\n",
       "      <th>BARAGARH</th>\n",
       "      <td>125.3</td>\n",
       "      <td>219.0</td>\n",
       "      <td>284.3</td>\n",
       "      <td>292.1</td>\n",
       "      <td>56.6</td>\n",
       "      <td>324</td>\n",
       "      <td>308.55</td>\n",
       "      <td>278.98</td>\n",
       "      <td>87.37</td>\n",
       "      <td>105.91</td>\n",
       "      <td>62526.08</td>\n",
       "      <td>60.00</td>\n",
       "      <td>337</td>\n",
       "      <td>1710.14</td>\n",
       "    </tr>\n",
       "    <tr>\n",
       "      <th>BHADRAK</th>\n",
       "      <td>178.7</td>\n",
       "      <td>324.3</td>\n",
       "      <td>309.2</td>\n",
       "      <td>257.0</td>\n",
       "      <td>88.6</td>\n",
       "      <td>163</td>\n",
       "      <td>172.88</td>\n",
       "      <td>143.16</td>\n",
       "      <td>126.27</td>\n",
       "      <td>106.33</td>\n",
       "      <td>8169.60</td>\n",
       "      <td>329.00</td>\n",
       "      <td>12</td>\n",
       "      <td>1216.72</td>\n",
       "    </tr>\n",
       "    <tr>\n",
       "      <th>BOLANGIR</th>\n",
       "      <td>81.3</td>\n",
       "      <td>244.7</td>\n",
       "      <td>272.1</td>\n",
       "      <td>330.3</td>\n",
       "      <td>78.3</td>\n",
       "      <td>312</td>\n",
       "      <td>346.96</td>\n",
       "      <td>193.83</td>\n",
       "      <td>46.91</td>\n",
       "      <td>57.43</td>\n",
       "      <td>51159.00</td>\n",
       "      <td>127.04</td>\n",
       "      <td>1115</td>\n",
       "      <td>1097.97</td>\n",
       "    </tr>\n",
       "    <tr>\n",
       "      <th>BOUDH</th>\n",
       "      <td>147.9</td>\n",
       "      <td>202.6</td>\n",
       "      <td>368.1</td>\n",
       "      <td>337.4</td>\n",
       "      <td>70.7</td>\n",
       "      <td>84</td>\n",
       "      <td>82.39</td>\n",
       "      <td>56.54</td>\n",
       "      <td>65.17</td>\n",
       "      <td>53.35</td>\n",
       "      <td>9799.40</td>\n",
       "      <td>82.43</td>\n",
       "      <td>11</td>\n",
       "      <td>441.42</td>\n",
       "    </tr>\n",
       "    <tr>\n",
       "      <th>CUTTACK</th>\n",
       "      <td>161.8</td>\n",
       "      <td>340.3</td>\n",
       "      <td>327.1</td>\n",
       "      <td>293.0</td>\n",
       "      <td>96.0</td>\n",
       "      <td>154</td>\n",
       "      <td>127.30</td>\n",
       "      <td>111.93</td>\n",
       "      <td>100.30</td>\n",
       "      <td>80.21</td>\n",
       "      <td>11157.60</td>\n",
       "      <td>300.15</td>\n",
       "      <td>279</td>\n",
       "      <td>997.63</td>\n",
       "    </tr>\n",
       "    <tr>\n",
       "      <th>DEOGARH</th>\n",
       "      <td>72.2</td>\n",
       "      <td>264.8</td>\n",
       "      <td>278.3</td>\n",
       "      <td>252.8</td>\n",
       "      <td>47.9</td>\n",
       "      <td>62</td>\n",
       "      <td>72.34</td>\n",
       "      <td>41.73</td>\n",
       "      <td>47.83</td>\n",
       "      <td>19.12</td>\n",
       "      <td>4187.40</td>\n",
       "      <td>504.45</td>\n",
       "      <td>131</td>\n",
       "      <td>163.18</td>\n",
       "    </tr>\n",
       "    <tr>\n",
       "      <th>DHENKANAL</th>\n",
       "      <td>118.8</td>\n",
       "      <td>370.0</td>\n",
       "      <td>344.3</td>\n",
       "      <td>120.5</td>\n",
       "      <td>67.8</td>\n",
       "      <td>153</td>\n",
       "      <td>128.70</td>\n",
       "      <td>74.79</td>\n",
       "      <td>48.89</td>\n",
       "      <td>51.84</td>\n",
       "      <td>14287.16</td>\n",
       "      <td>147.00</td>\n",
       "      <td>329</td>\n",
       "      <td>541.51</td>\n",
       "    </tr>\n",
       "    <tr>\n",
       "      <th>GAJAPATI</th>\n",
       "      <td>208.5</td>\n",
       "      <td>248.5</td>\n",
       "      <td>192.1</td>\n",
       "      <td>360.3</td>\n",
       "      <td>157.5</td>\n",
       "      <td>74</td>\n",
       "      <td>86.43</td>\n",
       "      <td>42.18</td>\n",
       "      <td>43.70</td>\n",
       "      <td>25.27</td>\n",
       "      <td>9377.18</td>\n",
       "      <td>27.19</td>\n",
       "      <td>11</td>\n",
       "      <td>263.91</td>\n",
       "    </tr>\n",
       "    <tr>\n",
       "      <th>GANJAM</th>\n",
       "      <td>189.3</td>\n",
       "      <td>158.4</td>\n",
       "      <td>182.9</td>\n",
       "      <td>270.7</td>\n",
       "      <td>122.8</td>\n",
       "      <td>403</td>\n",
       "      <td>381.13</td>\n",
       "      <td>240.31</td>\n",
       "      <td>65.52</td>\n",
       "      <td>198.97</td>\n",
       "      <td>48868.16</td>\n",
       "      <td>331.00</td>\n",
       "      <td>121</td>\n",
       "      <td>1747.60</td>\n",
       "    </tr>\n",
       "    <tr>\n",
       "      <th>JAGATSINGHPUR</th>\n",
       "      <td>120.3</td>\n",
       "      <td>231.9</td>\n",
       "      <td>411.1</td>\n",
       "      <td>369.5</td>\n",
       "      <td>100.3</td>\n",
       "      <td>88</td>\n",
       "      <td>92.33</td>\n",
       "      <td>87.87</td>\n",
       "      <td>96.60</td>\n",
       "      <td>63.18</td>\n",
       "      <td>11459.56</td>\n",
       "      <td>165.54</td>\n",
       "      <td>29</td>\n",
       "      <td>658.89</td>\n",
       "    </tr>\n",
       "    <tr>\n",
       "      <th>JAJPUR</th>\n",
       "      <td>177.2</td>\n",
       "      <td>345.6</td>\n",
       "      <td>363.2</td>\n",
       "      <td>290.7</td>\n",
       "      <td>71.9</td>\n",
       "      <td>132</td>\n",
       "      <td>124.65</td>\n",
       "      <td>91.08</td>\n",
       "      <td>86.79</td>\n",
       "      <td>45.44</td>\n",
       "      <td>5462.48</td>\n",
       "      <td>312.83</td>\n",
       "      <td>133</td>\n",
       "      <td>682.79</td>\n",
       "    </tr>\n",
       "    <tr>\n",
       "      <th>JHARSUGUDA</th>\n",
       "      <td>85.7</td>\n",
       "      <td>259.2</td>\n",
       "      <td>406.1</td>\n",
       "      <td>253.2</td>\n",
       "      <td>43.9</td>\n",
       "      <td>75</td>\n",
       "      <td>61.58</td>\n",
       "      <td>45.90</td>\n",
       "      <td>81.97</td>\n",
       "      <td>10.87</td>\n",
       "      <td>8220.90</td>\n",
       "      <td>219.28</td>\n",
       "      <td>9</td>\n",
       "      <td>247.50</td>\n",
       "    </tr>\n",
       "    <tr>\n",
       "      <th>KALAHANDI</th>\n",
       "      <td>133.3</td>\n",
       "      <td>360.7</td>\n",
       "      <td>322.8</td>\n",
       "      <td>348.3</td>\n",
       "      <td>119.7</td>\n",
       "      <td>362</td>\n",
       "      <td>372.02</td>\n",
       "      <td>219.57</td>\n",
       "      <td>54.23</td>\n",
       "      <td>132.01</td>\n",
       "      <td>66433.97</td>\n",
       "      <td>92.82</td>\n",
       "      <td>542</td>\n",
       "      <td>1321.86</td>\n",
       "    </tr>\n",
       "    <tr>\n",
       "      <th>KANDHAMAL</th>\n",
       "      <td>204.4</td>\n",
       "      <td>238.2</td>\n",
       "      <td>273.9</td>\n",
       "      <td>267.3</td>\n",
       "      <td>118.9</td>\n",
       "      <td>120</td>\n",
       "      <td>119.86</td>\n",
       "      <td>23.14</td>\n",
       "      <td>17.18</td>\n",
       "      <td>17.29</td>\n",
       "      <td>1308.20</td>\n",
       "      <td>39.51</td>\n",
       "      <td>16</td>\n",
       "      <td>183.84</td>\n",
       "    </tr>\n",
       "    <tr>\n",
       "      <th>KENDRAPADA</th>\n",
       "      <td>192.7</td>\n",
       "      <td>216.5</td>\n",
       "      <td>510.5</td>\n",
       "      <td>276.1</td>\n",
       "      <td>149.7</td>\n",
       "      <td>127</td>\n",
       "      <td>135.86</td>\n",
       "      <td>97.20</td>\n",
       "      <td>49.01</td>\n",
       "      <td>67.20</td>\n",
       "      <td>6668.80</td>\n",
       "      <td>317.29</td>\n",
       "      <td>57</td>\n",
       "      <td>815.36</td>\n",
       "    </tr>\n",
       "    <tr>\n",
       "      <th>KEONJHAR</th>\n",
       "      <td>145.0</td>\n",
       "      <td>270.4</td>\n",
       "      <td>348.5</td>\n",
       "      <td>166.2</td>\n",
       "      <td>58.3</td>\n",
       "      <td>273</td>\n",
       "      <td>297.78</td>\n",
       "      <td>182.50</td>\n",
       "      <td>32.70</td>\n",
       "      <td>76.74</td>\n",
       "      <td>18513.67</td>\n",
       "      <td>169.21</td>\n",
       "      <td>638</td>\n",
       "      <td>1062.02</td>\n",
       "    </tr>\n",
       "    <tr>\n",
       "      <th>KHORDHA</th>\n",
       "      <td>138.6</td>\n",
       "      <td>262.8</td>\n",
       "      <td>291.3</td>\n",
       "      <td>299.4</td>\n",
       "      <td>75.9</td>\n",
       "      <td>120</td>\n",
       "      <td>111.95</td>\n",
       "      <td>86.49</td>\n",
       "      <td>51.39</td>\n",
       "      <td>43.95</td>\n",
       "      <td>7287.98</td>\n",
       "      <td>281.57</td>\n",
       "      <td>291</td>\n",
       "      <td>629.24</td>\n",
       "    </tr>\n",
       "    <tr>\n",
       "      <th>KORAPUT</th>\n",
       "      <td>363.0</td>\n",
       "      <td>377.8</td>\n",
       "      <td>404.1</td>\n",
       "      <td>325.2</td>\n",
       "      <td>99.4</td>\n",
       "      <td>292</td>\n",
       "      <td>253.85</td>\n",
       "      <td>116.26</td>\n",
       "      <td>53.26</td>\n",
       "      <td>62.82</td>\n",
       "      <td>15050.34</td>\n",
       "      <td>96.88</td>\n",
       "      <td>17</td>\n",
       "      <td>795.32</td>\n",
       "    </tr>\n",
       "    <tr>\n",
       "      <th>MALKANGIRI</th>\n",
       "      <td>261.3</td>\n",
       "      <td>353.7</td>\n",
       "      <td>381.0</td>\n",
       "      <td>281.0</td>\n",
       "      <td>120.3</td>\n",
       "      <td>140</td>\n",
       "      <td>162.43</td>\n",
       "      <td>74.17</td>\n",
       "      <td>36.79</td>\n",
       "      <td>49.42</td>\n",
       "      <td>5860.80</td>\n",
       "      <td>37.18</td>\n",
       "      <td>50</td>\n",
       "      <td>469.13</td>\n",
       "    </tr>\n",
       "    <tr>\n",
       "      <th>MAYURBHANJ</th>\n",
       "      <td>195.5</td>\n",
       "      <td>245.3</td>\n",
       "      <td>351.3</td>\n",
       "      <td>285.3</td>\n",
       "      <td>85.4</td>\n",
       "      <td>392</td>\n",
       "      <td>359.20</td>\n",
       "      <td>270.10</td>\n",
       "      <td>49.35</td>\n",
       "      <td>111.07</td>\n",
       "      <td>16296.80</td>\n",
       "      <td>142.66</td>\n",
       "      <td>3099</td>\n",
       "      <td>1818.77</td>\n",
       "    </tr>\n",
       "    <tr>\n",
       "      <th>NABARANGPUR</th>\n",
       "      <td>306.2</td>\n",
       "      <td>421.4</td>\n",
       "      <td>322.0</td>\n",
       "      <td>261.0</td>\n",
       "      <td>124.4</td>\n",
       "      <td>183</td>\n",
       "      <td>223.05</td>\n",
       "      <td>127.89</td>\n",
       "      <td>124.03</td>\n",
       "      <td>35.77</td>\n",
       "      <td>24243.36</td>\n",
       "      <td>99.76</td>\n",
       "      <td>2</td>\n",
       "      <td>985.24</td>\n",
       "    </tr>\n",
       "    <tr>\n",
       "      <th>NAYAGARH</th>\n",
       "      <td>144.8</td>\n",
       "      <td>274.2</td>\n",
       "      <td>232.5</td>\n",
       "      <td>250.5</td>\n",
       "      <td>85.8</td>\n",
       "      <td>128</td>\n",
       "      <td>119.97</td>\n",
       "      <td>84.49</td>\n",
       "      <td>50.23</td>\n",
       "      <td>46.61</td>\n",
       "      <td>5466.46</td>\n",
       "      <td>161.50</td>\n",
       "      <td>53</td>\n",
       "      <td>527.05</td>\n",
       "    </tr>\n",
       "  </tbody>\n",
       "</table>\n",
       "</div>"
      ],
      "text/plain": [
       "               JUN-rainfall-pg21    JUL    AUG    SEP    OCT  \\\n",
       "DISTRICT                                                       \n",
       "ANGUL                      126.6  267.2  389.9  143.2   98.3   \n",
       "BALASORE                   165.1  303.5  335.0  308.0  153.1   \n",
       "BARAGARH                   125.3  219.0  284.3  292.1   56.6   \n",
       "BHADRAK                    178.7  324.3  309.2  257.0   88.6   \n",
       "BOLANGIR                    81.3  244.7  272.1  330.3   78.3   \n",
       "BOUDH                      147.9  202.6  368.1  337.4   70.7   \n",
       "CUTTACK                    161.8  340.3  327.1  293.0   96.0   \n",
       "DEOGARH                     72.2  264.8  278.3  252.8   47.9   \n",
       "DHENKANAL                  118.8  370.0  344.3  120.5   67.8   \n",
       "GAJAPATI                   208.5  248.5  192.1  360.3  157.5   \n",
       "GANJAM                     189.3  158.4  182.9  270.7  122.8   \n",
       "JAGATSINGHPUR              120.3  231.9  411.1  369.5  100.3   \n",
       "JAJPUR                     177.2  345.6  363.2  290.7   71.9   \n",
       "JHARSUGUDA                  85.7  259.2  406.1  253.2   43.9   \n",
       "KALAHANDI                  133.3  360.7  322.8  348.3  119.7   \n",
       "KANDHAMAL                  204.4  238.2  273.9  267.3  118.9   \n",
       "KENDRAPADA                 192.7  216.5  510.5  276.1  149.7   \n",
       "KEONJHAR                   145.0  270.4  348.5  166.2   58.3   \n",
       "KHORDHA                    138.6  262.8  291.3  299.4   75.9   \n",
       "KORAPUT                    363.0  377.8  404.1  325.2   99.4   \n",
       "MALKANGIRI                 261.3  353.7  381.0  281.0  120.3   \n",
       "MAYURBHANJ                 195.5  245.3  351.3  285.3   85.4   \n",
       "NABARANGPUR                306.2  421.4  322.0  261.0  124.4   \n",
       "NAYAGARH                   144.8  274.2  232.5  250.5   85.8   \n",
       "\n",
       "               NETAREASOWN-pg44  TotalCropped_area_pg30  HYV-pg45  \\\n",
       "DISTRICT                                                            \n",
       "ANGUL                       192                  184.88     78.36   \n",
       "BALASORE                    198                  197.48    213.15   \n",
       "BARAGARH                    324                  308.55    278.98   \n",
       "BHADRAK                     163                  172.88    143.16   \n",
       "BOLANGIR                    312                  346.96    193.83   \n",
       "BOUDH                        84                   82.39     56.54   \n",
       "CUTTACK                     154                  127.30    111.93   \n",
       "DEOGARH                      62                   72.34     41.73   \n",
       "DHENKANAL                   153                  128.70     74.79   \n",
       "GAJAPATI                     74                   86.43     42.18   \n",
       "GANJAM                      403                  381.13    240.31   \n",
       "JAGATSINGHPUR                88                   92.33     87.87   \n",
       "JAJPUR                      132                  124.65     91.08   \n",
       "JHARSUGUDA                   75                   61.58     45.90   \n",
       "KALAHANDI                   362                  372.02    219.57   \n",
       "KANDHAMAL                   120                  119.86     23.14   \n",
       "KENDRAPADA                  127                  135.86     97.20   \n",
       "KEONJHAR                    273                  297.78    182.50   \n",
       "KHORDHA                     120                  111.95     86.49   \n",
       "KORAPUT                     292                  253.85    116.26   \n",
       "MALKANGIRI                  140                  162.43     74.17   \n",
       "MAYURBHANJ                  392                  359.20    270.10   \n",
       "NABARANGPUR                 183                  223.05    127.89   \n",
       "NAYAGARH                    128                  119.97     84.49   \n",
       "\n",
       "               HecterConsumptionpg46  Kharif-under-irrigation-51  \\\n",
       "DISTRICT                                                           \n",
       "ANGUL                          30.28                       50.62   \n",
       "BALASORE                      108.78                       99.48   \n",
       "BARAGARH                       87.37                      105.91   \n",
       "BHADRAK                       126.27                      106.33   \n",
       "BOLANGIR                       46.91                       57.43   \n",
       "BOUDH                          65.17                       53.35   \n",
       "CUTTACK                       100.30                       80.21   \n",
       "DEOGARH                        47.83                       19.12   \n",
       "DHENKANAL                      48.89                       51.84   \n",
       "GAJAPATI                       43.70                       25.27   \n",
       "GANJAM                         65.52                      198.97   \n",
       "JAGATSINGHPUR                  96.60                       63.18   \n",
       "JAJPUR                         86.79                       45.44   \n",
       "JHARSUGUDA                     81.97                       10.87   \n",
       "KALAHANDI                      54.23                      132.01   \n",
       "KANDHAMAL                      17.18                       17.29   \n",
       "KENDRAPADA                     49.01                       67.20   \n",
       "KEONJHAR                       32.70                       76.74   \n",
       "KHORDHA                        51.39                       43.95   \n",
       "KORAPUT                        53.26                       62.82   \n",
       "MALKANGIRI                     36.79                       49.42   \n",
       "MAYURBHANJ                     49.35                      111.07   \n",
       "NABARANGPUR                   124.03                       35.77   \n",
       "NAYAGARH                       50.23                       46.61   \n",
       "\n",
       "               Seed -Distribution-54  Amount-in-crores-pg58  \\\n",
       "DISTRICT                                                      \n",
       "ANGUL                        7962.90                 197.24   \n",
       "BALASORE                    13482.20                 393.00   \n",
       "BARAGARH                    62526.08                  60.00   \n",
       "BHADRAK                      8169.60                 329.00   \n",
       "BOLANGIR                    51159.00                 127.04   \n",
       "BOUDH                        9799.40                  82.43   \n",
       "CUTTACK                     11157.60                 300.15   \n",
       "DEOGARH                      4187.40                 504.45   \n",
       "DHENKANAL                   14287.16                 147.00   \n",
       "GAJAPATI                     9377.18                  27.19   \n",
       "GANJAM                      48868.16                 331.00   \n",
       "JAGATSINGHPUR               11459.56                 165.54   \n",
       "JAJPUR                       5462.48                 312.83   \n",
       "JHARSUGUDA                   8220.90                 219.28   \n",
       "KALAHANDI                   66433.97                  92.82   \n",
       "KANDHAMAL                    1308.20                  39.51   \n",
       "KENDRAPADA                   6668.80                 317.29   \n",
       "KEONJHAR                    18513.67                 169.21   \n",
       "KHORDHA                      7287.98                 281.57   \n",
       "KORAPUT                     15050.34                  96.88   \n",
       "MALKANGIRI                   5860.80                  37.18   \n",
       "MAYURBHANJ                  16296.80                 142.66   \n",
       "NABARANGPUR                 24243.36                  99.76   \n",
       "NAYAGARH                     5466.46                 161.50   \n",
       "\n",
       "               TOTAL-pg60-jalanidhi  Total-khariff-79  \n",
       "DISTRICT                                               \n",
       "ANGUL                           615            463.92  \n",
       "BALASORE                        770           1554.11  \n",
       "BARAGARH                        337           1710.14  \n",
       "BHADRAK                          12           1216.72  \n",
       "BOLANGIR                       1115           1097.97  \n",
       "BOUDH                            11            441.42  \n",
       "CUTTACK                         279            997.63  \n",
       "DEOGARH                         131            163.18  \n",
       "DHENKANAL                       329            541.51  \n",
       "GAJAPATI                         11            263.91  \n",
       "GANJAM                          121           1747.60  \n",
       "JAGATSINGHPUR                    29            658.89  \n",
       "JAJPUR                          133            682.79  \n",
       "JHARSUGUDA                        9            247.50  \n",
       "KALAHANDI                       542           1321.86  \n",
       "KANDHAMAL                        16            183.84  \n",
       "KENDRAPADA                       57            815.36  \n",
       "KEONJHAR                        638           1062.02  \n",
       "KHORDHA                         291            629.24  \n",
       "KORAPUT                          17            795.32  \n",
       "MALKANGIRI                       50            469.13  \n",
       "MAYURBHANJ                     3099           1818.77  \n",
       "NABARANGPUR                       2            985.24  \n",
       "NAYAGARH                         53            527.05  "
      ]
     },
     "execution_count": 26,
     "metadata": {},
     "output_type": "execute_result"
    }
   ],
   "source": [
    "df = pd.read_csv('E:\\Research Paper\\DATA\\FILES\\Final-Khariff.csv')\n",
    "df.set_index(\"DISTRICT\", inplace = True)\n",
    "df.head(24)"
   ]
  },
  {
   "cell_type": "code",
   "execution_count": 27,
   "metadata": {},
   "outputs": [],
   "source": [
    "X = df.iloc[:,:-1]\n",
    "y = df.iloc[:,-1]"
   ]
  },
  {
   "cell_type": "code",
   "execution_count": 28,
   "metadata": {},
   "outputs": [
    {
     "data": {
      "text/plain": [
       "DISTRICT\n",
       "ANGUL        463.92\n",
       "BALASORE    1554.11\n",
       "BARAGARH    1710.14\n",
       "BHADRAK     1216.72\n",
       "BOLANGIR    1097.97\n",
       "Name: Total-khariff-79, dtype: float64"
      ]
     },
     "execution_count": 28,
     "metadata": {},
     "output_type": "execute_result"
    }
   ],
   "source": [
    "y.head()"
   ]
  },
  {
   "cell_type": "code",
   "execution_count": 29,
   "metadata": {},
   "outputs": [
    {
     "data": {
      "text/plain": [
       "JUN-rainfall-pg21             0\n",
       "JUL                           0\n",
       "AUG                           0\n",
       "SEP                           0\n",
       "OCT                           0\n",
       "NETAREASOWN-pg44              0\n",
       "TotalCropped_area_pg30        0\n",
       "HYV-pg45                      0\n",
       "HecterConsumptionpg46         0\n",
       "Kharif-under-irrigation-51    0\n",
       "Seed -Distribution-54         0\n",
       "Amount-in-crores-pg58         0\n",
       "TOTAL-pg60-jalanidhi          0\n",
       "dtype: int64"
      ]
     },
     "execution_count": 29,
     "metadata": {},
     "output_type": "execute_result"
    }
   ],
   "source": [
    "X.isnull().sum()"
   ]
  },
  {
   "cell_type": "code",
   "execution_count": 30,
   "metadata": {},
   "outputs": [],
   "source": [
    "#Spliting the data\n",
    "from sklearn.model_selection import train_test_split\n",
    "X_train,X_test,y_train,y_test = train_test_split(X,y,test_size=0.2,random_state=0)"
   ]
  },
  {
   "cell_type": "code",
   "execution_count": 31,
   "metadata": {},
   "outputs": [
    {
     "data": {
      "text/html": [
       "<div>\n",
       "<style scoped>\n",
       "    .dataframe tbody tr th:only-of-type {\n",
       "        vertical-align: middle;\n",
       "    }\n",
       "\n",
       "    .dataframe tbody tr th {\n",
       "        vertical-align: top;\n",
       "    }\n",
       "\n",
       "    .dataframe thead th {\n",
       "        text-align: right;\n",
       "    }\n",
       "</style>\n",
       "<table border=\"1\" class=\"dataframe\">\n",
       "  <thead>\n",
       "    <tr style=\"text-align: right;\">\n",
       "      <th></th>\n",
       "      <th>JUN-rainfall-pg21</th>\n",
       "      <th>JUL</th>\n",
       "      <th>AUG</th>\n",
       "      <th>SEP</th>\n",
       "      <th>OCT</th>\n",
       "      <th>NETAREASOWN-pg44</th>\n",
       "      <th>TotalCropped_area_pg30</th>\n",
       "      <th>HYV-pg45</th>\n",
       "      <th>HecterConsumptionpg46</th>\n",
       "      <th>Kharif-under-irrigation-51</th>\n",
       "      <th>Seed -Distribution-54</th>\n",
       "      <th>Amount-in-crores-pg58</th>\n",
       "      <th>TOTAL-pg60-jalanidhi</th>\n",
       "    </tr>\n",
       "    <tr>\n",
       "      <th>DISTRICT</th>\n",
       "      <th></th>\n",
       "      <th></th>\n",
       "      <th></th>\n",
       "      <th></th>\n",
       "      <th></th>\n",
       "      <th></th>\n",
       "      <th></th>\n",
       "      <th></th>\n",
       "      <th></th>\n",
       "      <th></th>\n",
       "      <th></th>\n",
       "      <th></th>\n",
       "      <th></th>\n",
       "    </tr>\n",
       "  </thead>\n",
       "  <tbody>\n",
       "    <tr>\n",
       "      <th>BARAGARH</th>\n",
       "      <td>125.3</td>\n",
       "      <td>219.0</td>\n",
       "      <td>284.3</td>\n",
       "      <td>292.1</td>\n",
       "      <td>56.6</td>\n",
       "      <td>324</td>\n",
       "      <td>308.55</td>\n",
       "      <td>278.98</td>\n",
       "      <td>87.37</td>\n",
       "      <td>105.91</td>\n",
       "      <td>62526.08</td>\n",
       "      <td>60.00</td>\n",
       "      <td>337</td>\n",
       "    </tr>\n",
       "    <tr>\n",
       "      <th>SUBARNAPUR</th>\n",
       "      <td>89.7</td>\n",
       "      <td>209.8</td>\n",
       "      <td>400.9</td>\n",
       "      <td>306.7</td>\n",
       "      <td>60.5</td>\n",
       "      <td>127</td>\n",
       "      <td>137.10</td>\n",
       "      <td>134.60</td>\n",
       "      <td>52.06</td>\n",
       "      <td>65.00</td>\n",
       "      <td>41220.20</td>\n",
       "      <td>73.21</td>\n",
       "      <td>41</td>\n",
       "    </tr>\n",
       "    <tr>\n",
       "      <th>JHARSUGUDA</th>\n",
       "      <td>85.7</td>\n",
       "      <td>259.2</td>\n",
       "      <td>406.1</td>\n",
       "      <td>253.2</td>\n",
       "      <td>43.9</td>\n",
       "      <td>75</td>\n",
       "      <td>61.58</td>\n",
       "      <td>45.90</td>\n",
       "      <td>81.97</td>\n",
       "      <td>10.87</td>\n",
       "      <td>8220.90</td>\n",
       "      <td>219.28</td>\n",
       "      <td>9</td>\n",
       "    </tr>\n",
       "    <tr>\n",
       "      <th>GANJAM</th>\n",
       "      <td>189.3</td>\n",
       "      <td>158.4</td>\n",
       "      <td>182.9</td>\n",
       "      <td>270.7</td>\n",
       "      <td>122.8</td>\n",
       "      <td>403</td>\n",
       "      <td>381.13</td>\n",
       "      <td>240.31</td>\n",
       "      <td>65.52</td>\n",
       "      <td>198.97</td>\n",
       "      <td>48868.16</td>\n",
       "      <td>331.00</td>\n",
       "      <td>121</td>\n",
       "    </tr>\n",
       "    <tr>\n",
       "      <th>RAYAGADA</th>\n",
       "      <td>188.0</td>\n",
       "      <td>267.5</td>\n",
       "      <td>239.2</td>\n",
       "      <td>199.3</td>\n",
       "      <td>87.7</td>\n",
       "      <td>172</td>\n",
       "      <td>183.63</td>\n",
       "      <td>59.42</td>\n",
       "      <td>56.58</td>\n",
       "      <td>24.95</td>\n",
       "      <td>11044.72</td>\n",
       "      <td>58.40</td>\n",
       "      <td>57</td>\n",
       "    </tr>\n",
       "    <tr>\n",
       "      <th>NUAPADA</th>\n",
       "      <td>174.8</td>\n",
       "      <td>294.1</td>\n",
       "      <td>190.5</td>\n",
       "      <td>322.5</td>\n",
       "      <td>63.9</td>\n",
       "      <td>189</td>\n",
       "      <td>200.28</td>\n",
       "      <td>97.42</td>\n",
       "      <td>35.15</td>\n",
       "      <td>37.87</td>\n",
       "      <td>15472.26</td>\n",
       "      <td>41.17</td>\n",
       "      <td>114</td>\n",
       "    </tr>\n",
       "  </tbody>\n",
       "</table>\n",
       "</div>"
      ],
      "text/plain": [
       "            JUN-rainfall-pg21    JUL    AUG    SEP    OCT  NETAREASOWN-pg44  \\\n",
       "DISTRICT                                                                      \n",
       "BARAGARH                125.3  219.0  284.3  292.1   56.6               324   \n",
       "SUBARNAPUR               89.7  209.8  400.9  306.7   60.5               127   \n",
       "JHARSUGUDA               85.7  259.2  406.1  253.2   43.9                75   \n",
       "GANJAM                  189.3  158.4  182.9  270.7  122.8               403   \n",
       "RAYAGADA                188.0  267.5  239.2  199.3   87.7               172   \n",
       "NUAPADA                 174.8  294.1  190.5  322.5   63.9               189   \n",
       "\n",
       "            TotalCropped_area_pg30  HYV-pg45  HecterConsumptionpg46  \\\n",
       "DISTRICT                                                              \n",
       "BARAGARH                    308.55    278.98                  87.37   \n",
       "SUBARNAPUR                  137.10    134.60                  52.06   \n",
       "JHARSUGUDA                   61.58     45.90                  81.97   \n",
       "GANJAM                      381.13    240.31                  65.52   \n",
       "RAYAGADA                    183.63     59.42                  56.58   \n",
       "NUAPADA                     200.28     97.42                  35.15   \n",
       "\n",
       "            Kharif-under-irrigation-51  Seed -Distribution-54  \\\n",
       "DISTRICT                                                        \n",
       "BARAGARH                        105.91               62526.08   \n",
       "SUBARNAPUR                       65.00               41220.20   \n",
       "JHARSUGUDA                       10.87                8220.90   \n",
       "GANJAM                          198.97               48868.16   \n",
       "RAYAGADA                         24.95               11044.72   \n",
       "NUAPADA                          37.87               15472.26   \n",
       "\n",
       "            Amount-in-crores-pg58  TOTAL-pg60-jalanidhi  \n",
       "DISTRICT                                                 \n",
       "BARAGARH                    60.00                   337  \n",
       "SUBARNAPUR                  73.21                    41  \n",
       "JHARSUGUDA                 219.28                     9  \n",
       "GANJAM                     331.00                   121  \n",
       "RAYAGADA                    58.40                    57  \n",
       "NUAPADA                     41.17                   114  "
      ]
     },
     "execution_count": 31,
     "metadata": {},
     "output_type": "execute_result"
    }
   ],
   "source": [
    "X_test"
   ]
  },
  {
   "cell_type": "code",
   "execution_count": 32,
   "metadata": {},
   "outputs": [
    {
     "data": {
      "text/plain": [
       "DISTRICT\n",
       "BARAGARH      1710.14\n",
       "SUBARNAPUR    1123.47\n",
       "JHARSUGUDA     247.50\n",
       "GANJAM        1747.60\n",
       "RAYAGADA       362.44\n",
       "NUAPADA        357.78\n",
       "Name: Total-khariff-79, dtype: float64"
      ]
     },
     "execution_count": 32,
     "metadata": {},
     "output_type": "execute_result"
    }
   ],
   "source": [
    "y_test"
   ]
  },
  {
   "cell_type": "code",
   "execution_count": 33,
   "metadata": {},
   "outputs": [
    {
     "data": {
      "text/plain": [
       "LinearRegression(copy_X=True, fit_intercept=True, n_jobs=None, normalize=False)"
      ]
     },
     "execution_count": 33,
     "metadata": {},
     "output_type": "execute_result"
    }
   ],
   "source": [
    "#Fitting the multi Linear regression to the training set\n",
    "from sklearn.linear_model import LinearRegression\n",
    "regressor = LinearRegression()\n",
    "regressor.fit(X_train,y_train)"
   ]
  },
  {
   "cell_type": "code",
   "execution_count": 34,
   "metadata": {},
   "outputs": [],
   "source": [
    "#Predicting the test set results\n",
    "y_pred = regressor.predict(X_test)\n",
    "\n",
    "from sklearn.metrics import r2_score\n",
    "score=r2_score(y_test,y_pred)"
   ]
  },
  {
   "cell_type": "code",
   "execution_count": 35,
   "metadata": {},
   "outputs": [],
   "source": [
    "import numpy as np\n",
    "from sklearn.metrics import mean_squared_error\n",
    "from sklearn.metrics import r2_score\n",
    "test_set_rmse = (np.sqrt(mean_squared_error(y_test,y_pred)))/100\n",
    "accuracy =100-test_set_rmse"
   ]
  },
  {
   "cell_type": "code",
   "execution_count": 36,
   "metadata": {},
   "outputs": [
    {
     "data": {
      "text/plain": [
       "97.94267759504852"
      ]
     },
     "execution_count": 36,
     "metadata": {},
     "output_type": "execute_result"
    }
   ],
   "source": [
    "accuracy"
   ]
  },
  {
   "cell_type": "code",
   "execution_count": 37,
   "metadata": {},
   "outputs": [
    {
     "data": {
      "text/plain": [
       "0.8954801033681992"
      ]
     },
     "execution_count": 37,
     "metadata": {},
     "output_type": "execute_result"
    }
   ],
   "source": [
    "score"
   ]
  },
  {
   "cell_type": "code",
   "execution_count": 38,
   "metadata": {},
   "outputs": [
    {
     "data": {
      "text/plain": [
       "1747.6"
      ]
     },
     "execution_count": 38,
     "metadata": {},
     "output_type": "execute_result"
    }
   ],
   "source": [
    "y_test[3]"
   ]
  },
  {
   "cell_type": "code",
   "execution_count": 39,
   "metadata": {},
   "outputs": [
    {
     "data": {
      "text/plain": [
       "1860.9262514828877"
      ]
     },
     "execution_count": 39,
     "metadata": {},
     "output_type": "execute_result"
    }
   ],
   "source": [
    "y_pred[3]"
   ]
  },
  {
   "cell_type": "code",
   "execution_count": 43,
   "metadata": {},
   "outputs": [
    {
     "name": "stdout",
     "output_type": "stream",
     "text": [
      "89.54801033681991 %\n"
     ]
    }
   ],
   "source": [
    "accurasy = regressor.score(X_test,y_test)\n",
    "print(accurasy*100,'%')"
   ]
  },
  {
   "cell_type": "markdown",
   "metadata": {},
   "source": [
    "### Random_Forest_regression"
   ]
  },
  {
   "cell_type": "code",
   "execution_count": 41,
   "metadata": {},
   "outputs": [],
   "source": [
    "from sklearn.model_selection import cross_val_score\n",
    "cv_k = 5\n",
    "cv_scoring = 'neg_mean_squared_error'\n",
    "cv_scoring = 'r2'"
   ]
  },
  {
   "cell_type": "code",
   "execution_count": 42,
   "metadata": {},
   "outputs": [],
   "source": [
    "from sklearn.model_selection import KFold\n",
    "kf = KFold(n_splits=cv_k,shuffle=True)"
   ]
  },
  {
   "cell_type": "code",
   "execution_count": 45,
   "metadata": {},
   "outputs": [],
   "source": [
    "from sklearn import linear_model\n",
    "from sklearn.preprocessing import PolynomialFeatures\n",
    "from sklearn.ensemble import RandomForestRegressor\n",
    "from sklearn.ensemble import GradientBoostingRegressor\n",
    "from sklearn import neighbors\n",
    "from sklearn.svm import SVR"
   ]
  },
  {
   "cell_type": "code",
   "execution_count": 54,
   "metadata": {},
   "outputs": [
    {
     "name": "stdout",
     "output_type": "stream",
     "text": [
      "0.3598012829014293\n",
      "0.4277980437726486\n"
     ]
    }
   ],
   "source": [
    "# Random forest regressor\n",
    "import time\n",
    "now = time.time()\n",
    "est_best = RandomForestRegressor(n_estimators=10,n_jobs=-1)\n",
    "est_best.fit(X_train,y_train)\n",
    "scores = cross_val_score(est_best,X_train,y_train,cv=kf,scoring=cv_scoring)\n",
    "print(scores.mean())\n",
    "print(scores.std())"
   ]
  },
  {
   "cell_type": "code",
   "execution_count": 56,
   "metadata": {},
   "outputs": [],
   "source": [
    "# Predicting the Test set results\n",
    "y_pred = est_best.predict(X_test)\n",
    "\n",
    "from sklearn.metrics import r2_score\n",
    "score=r2_score(y_test,y_pred)"
   ]
  },
  {
   "cell_type": "code",
   "execution_count": 57,
   "metadata": {},
   "outputs": [
    {
     "data": {
      "text/plain": [
       "0.780790780391682"
      ]
     },
     "execution_count": 57,
     "metadata": {},
     "output_type": "execute_result"
    }
   ],
   "source": [
    "score"
   ]
  },
  {
   "cell_type": "code",
   "execution_count": 59,
   "metadata": {},
   "outputs": [
    {
     "data": {
      "text/plain": [
       "362.44"
      ]
     },
     "execution_count": 59,
     "metadata": {},
     "output_type": "execute_result"
    }
   ],
   "source": [
    "y_test[4]"
   ]
  },
  {
   "cell_type": "code",
   "execution_count": 60,
   "metadata": {},
   "outputs": [
    {
     "data": {
      "text/plain": [
       "395.746"
      ]
     },
     "execution_count": 60,
     "metadata": {},
     "output_type": "execute_result"
    }
   ],
   "source": [
    "y_pred[4]"
   ]
  },
  {
   "cell_type": "code",
   "execution_count": 62,
   "metadata": {},
   "outputs": [
    {
     "data": {
      "text/plain": [
       "<matplotlib.axes._subplots.AxesSubplot at 0x19cd4cad448>"
      ]
     },
     "execution_count": 62,
     "metadata": {},
     "output_type": "execute_result"
    },
    {
     "data": {
      "image/png": "[encoded data removed]",
      "text/plain": [
       "<Figure size 432x288 with 1 Axes>"
      ]
     },
     "metadata": {
      "needs_background": "light"
     },
     "output_type": "display_data"
    }
   ],
   "source": [
    "#Kernel density estimation plot for actual Yield\n",
    "import seaborn as sns\n",
    "sns.distplot(df['Total-khariff-79'],bins=10,kde=True)"
   ]
  },
  {
   "cell_type": "code",
   "execution_count": 64,
   "metadata": {},
   "outputs": [
    {
     "data": {
      "text/plain": [
       "<matplotlib.axes._subplots.AxesSubplot at 0x19cd4edd3c8>"
      ]
     },
     "execution_count": 64,
     "metadata": {},
     "output_type": "execute_result"
    },
    {
     "data": {
      "image/png": "[encoded data removed]",
      "text/plain": [
       "<Figure size 576x144 with 1 Axes>"
      ]
     },
     "metadata": {
      "needs_background": "light"
     },
     "output_type": "display_data"
    }
   ],
   "source": [
    "fig,ax=plt.subplots(figsize=(8,2))\n",
    "sns.distplot(df['Total-khariff-79'],bins=10,kde=False,ax=ax)"
   ]
  },
  {
   "cell_type": "code",
   "execution_count": 67,
   "metadata": {},
   "outputs": [
    {
     "data": {
      "text/plain": [
       "<matplotlib.axes._subplots.AxesSubplot at 0x19cd4f6c988>"
      ]
     },
     "execution_count": 67,
     "metadata": {},
     "output_type": "execute_result"
    },
    {
     "data": {
      "image/png": "[encoded data removed]",
      "text/plain": [
       "<Figure size 432x288 with 1 Axes>"
      ]
     },
     "metadata": {
      "needs_background": "light"
     },
     "output_type": "display_data"
    }
   ],
   "source": [
    "#Count plot for actual yield#Frequency\n",
    "sns.countplot(x='Total-khariff-79',data=df)"
   ]
  },
  {
   "cell_type": "code",
   "execution_count": 69,
   "metadata": {},
   "outputs": [
    {
     "data": {
      "text/plain": [
       "<seaborn.axisgrid.JointGrid at 0x19cd5171408>"
      ]
     },
     "execution_count": 69,
     "metadata": {},
     "output_type": "execute_result"
    },
    {
     "data": {
      "image/png": "[encoded data removed]",
      "text/plain": [
       "<Figure size 432x432 with 3 Axes>"
      ]
     },
     "metadata": {
      "needs_background": "light"
     },
     "output_type": "display_data"
    }
   ],
   "source": [
    "sns.jointplot('Total-khariff-79','NETAREASOWN-pg44',data=df,kind='hex')"
   ]
  },
  {
   "cell_type": "code",
   "execution_count": 73,
   "metadata": {},
   "outputs": [
    {
     "data": {
      "text/plain": [
       "array([1379.446,  863.261,  281.123, 1331.952,  395.746,  782.689])"
      ]
     },
     "execution_count": 73,
     "metadata": {},
     "output_type": "execute_result"
    }
   ],
   "source": [
    "y_pred"
   ]
  },
  {
   "cell_type": "code",
   "execution_count": 74,
   "metadata": {},
   "outputs": [
    {
     "data": {
      "text/plain": [
       "DISTRICT\n",
       "BARAGARH      1710.14\n",
       "SUBARNAPUR    1123.47\n",
       "JHARSUGUDA     247.50\n",
       "GANJAM        1747.60\n",
       "RAYAGADA       362.44\n",
       "NUAPADA        357.78\n",
       "Name: Total-khariff-79, dtype: float64"
      ]
     },
     "execution_count": 74,
     "metadata": {},
     "output_type": "execute_result"
    }
   ],
   "source": [
    "y_test"
   ]
  },
  {
   "cell_type": "code",
   "execution_count": 78,
   "metadata": {},
   "outputs": [
    {
     "data": {
      "text/plain": [
       "<matplotlib.axes._subplots.AxesSubplot at 0x19cd5263388>"
      ]
     },
     "execution_count": 78,
     "metadata": {},
     "output_type": "execute_result"
    },
    {
     "data": {
      "image/png": "[encoded data removed]",
      "text/plain": [
       "<Figure size 432x288 with 1 Axes>"
      ]
     },
     "metadata": {
      "needs_background": "light"
     },
     "output_type": "display_data"
    }
   ],
   "source": [
    "#Distribution plot for actual value\n",
    "sns.distplot(y_test,bins=10,kde=True,rug=True)"
   ]
  },
  {
   "cell_type": "code",
   "execution_count": null,
   "metadata": {},
   "outputs": [],
   "source": []
  },
  {
   "cell_type": "code",
   "execution_count": null,
   "metadata": {},
   "outputs": [],
   "source": []
  },
  {
   "cell_type": "code",
   "execution_count": null,
   "metadata": {},
   "outputs": [],
   "source": []
  },
  {
   "cell_type": "code",
   "execution_count": null,
   "metadata": {},
   "outputs": [],
   "source": []
  }
 ],
 "metadata": {
  "kernelspec": {
   "display_name": "Python 3",
   "language": "python",
   "name": "python3"
  },
  "language_info": {
   "codemirror_mode": {
    "name": "ipython",
    "version": 3
   },
   "file_extension": ".py",
   "mimetype": "text/x-python",
   "name": "python",
   "nbconvert_exporter": "python",
   "pygments_lexer": "ipython3",
   "version": "3.7.6"
  }
 },
 "nbformat": 4,
 "nbformat_minor": 4
}
